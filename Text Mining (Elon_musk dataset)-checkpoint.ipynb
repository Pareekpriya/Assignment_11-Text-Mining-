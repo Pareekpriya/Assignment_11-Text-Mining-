{
 "cells": [
  {
   "cell_type": "code",
   "execution_count": 12,
   "id": "cb0070e6",
   "metadata": {
    "ExecuteTime": {
     "end_time": "2023-01-18T14:47:38.985941Z",
     "start_time": "2023-01-18T14:47:38.962161Z"
    }
   },
   "outputs": [],
   "source": [
    "import numpy as np # linear algebra\n",
    "import pandas as pd # data processing, CSV file I/O (e.g. pd.read_csv)\n",
    "import string # special operations on strings\n",
    "import spacy # language models\n",
    "\n",
    "from matplotlib.pyplot import imread\n",
    "from matplotlib import pyplot as plt\n",
    "from wordcloud import WordCloud\n",
    "%matplotlib inline"
   ]
  },
  {
   "cell_type": "code",
   "execution_count": 13,
   "id": "8f3549ba",
   "metadata": {
    "ExecuteTime": {
     "end_time": "2023-01-18T14:47:39.011933Z",
     "start_time": "2023-01-18T14:47:38.989057Z"
    }
   },
   "outputs": [
    {
     "name": "stderr",
     "output_type": "stream",
     "text": [
      "C:\\Users\\priya\\AppData\\Local\\Temp\\ipykernel_34676\\1343316058.py:3: FutureWarning: The error_bad_lines argument has been deprecated and will be removed in a future version. Use on_bad_lines in the future.\n",
      "\n",
      "\n",
      "  data=pd.read_csv(\"Elon_musk.csv\", encoding=\"latin1\" ,error_bad_lines=False)\n"
     ]
    },
    {
     "data": {
      "text/html": [
       "<div>\n",
       "<style scoped>\n",
       "    .dataframe tbody tr th:only-of-type {\n",
       "        vertical-align: middle;\n",
       "    }\n",
       "\n",
       "    .dataframe tbody tr th {\n",
       "        vertical-align: top;\n",
       "    }\n",
       "\n",
       "    .dataframe thead th {\n",
       "        text-align: right;\n",
       "    }\n",
       "</style>\n",
       "<table border=\"1\" class=\"dataframe\">\n",
       "  <thead>\n",
       "    <tr style=\"text-align: right;\">\n",
       "      <th></th>\n",
       "      <th>Unnamed: 0</th>\n",
       "      <th>Text</th>\n",
       "    </tr>\n",
       "  </thead>\n",
       "  <tbody>\n",
       "    <tr>\n",
       "      <th>0</th>\n",
       "      <td>1</td>\n",
       "      <td>@kunalb11 Im an alien</td>\n",
       "    </tr>\n",
       "    <tr>\n",
       "      <th>1</th>\n",
       "      <td>2</td>\n",
       "      <td>@ID_AA_Carmack Ray tracing on Cyberpunk with H...</td>\n",
       "    </tr>\n",
       "    <tr>\n",
       "      <th>2</th>\n",
       "      <td>3</td>\n",
       "      <td>@joerogan @Spotify Great interview!</td>\n",
       "    </tr>\n",
       "    <tr>\n",
       "      <th>3</th>\n",
       "      <td>4</td>\n",
       "      <td>@gtera27 Doge is underestimated</td>\n",
       "    </tr>\n",
       "    <tr>\n",
       "      <th>4</th>\n",
       "      <td>5</td>\n",
       "      <td>@teslacn Congratulations Tesla China for amazi...</td>\n",
       "    </tr>\n",
       "    <tr>\n",
       "      <th>...</th>\n",
       "      <td>...</td>\n",
       "      <td>...</td>\n",
       "    </tr>\n",
       "    <tr>\n",
       "      <th>1994</th>\n",
       "      <td>1995</td>\n",
       "      <td>@flcnhvy True, it sounds so surreal, but the n...</td>\n",
       "    </tr>\n",
       "    <tr>\n",
       "      <th>1995</th>\n",
       "      <td>1996</td>\n",
       "      <td>@PPathole Make sure to read ur terms &amp;amp; con...</td>\n",
       "    </tr>\n",
       "    <tr>\n",
       "      <th>1996</th>\n",
       "      <td>1997</td>\n",
       "      <td>@TeslaGong @PPathole Samwise Gamgee</td>\n",
       "    </tr>\n",
       "    <tr>\n",
       "      <th>1997</th>\n",
       "      <td>1998</td>\n",
       "      <td>@PPathole Altho Dumb and Dumber is &lt;U+0001F525...</td>\n",
       "    </tr>\n",
       "    <tr>\n",
       "      <th>1998</th>\n",
       "      <td>1999</td>\n",
       "      <td>Progress update August 28</td>\n",
       "    </tr>\n",
       "  </tbody>\n",
       "</table>\n",
       "<p>1999 rows × 2 columns</p>\n",
       "</div>"
      ],
      "text/plain": [
       "      Unnamed: 0                                               Text\n",
       "0              1                             @kunalb11 Im an alien\n",
       "1              2  @ID_AA_Carmack Ray tracing on Cyberpunk with H...\n",
       "2              3                @joerogan @Spotify Great interview!\n",
       "3              4                    @gtera27 Doge is underestimated\n",
       "4              5  @teslacn Congratulations Tesla China for amazi...\n",
       "...          ...                                                ...\n",
       "1994        1995  @flcnhvy True, it sounds so surreal, but the n...\n",
       "1995        1996  @PPathole Make sure to read ur terms &amp; con...\n",
       "1996        1997                @TeslaGong @PPathole Samwise Gamgee\n",
       "1997        1998  @PPathole Altho Dumb and Dumber is <U+0001F525...\n",
       "1998        1999                          Progress update August 28\n",
       "\n",
       "[1999 rows x 2 columns]"
      ]
     },
     "execution_count": 13,
     "metadata": {},
     "output_type": "execute_result"
    }
   ],
   "source": [
    "#Read the file\n",
    "import pandas\n",
    "data=pd.read_csv(\"Elon_musk.csv\", encoding=\"latin1\" ,error_bad_lines=False)\n",
    "data"
   ]
  },
  {
   "cell_type": "code",
   "execution_count": 14,
   "id": "3babb2f1",
   "metadata": {
    "ExecuteTime": {
     "end_time": "2023-01-18T14:47:39.044493Z",
     "start_time": "2023-01-18T14:47:39.011933Z"
    }
   },
   "outputs": [
    {
     "data": {
      "text/plain": [
       "(2477, 2)"
      ]
     },
     "execution_count": 14,
     "metadata": {},
     "output_type": "execute_result"
    }
   ],
   "source": [
    "#Sentiment analysis\n",
    "afinn = pd.read_csv('Afinn.csv', sep=',', encoding='latin-1')\n",
    "afinn.shape"
   ]
  },
  {
   "cell_type": "code",
   "execution_count": 15,
   "id": "952c5d40",
   "metadata": {
    "ExecuteTime": {
     "end_time": "2023-01-18T14:47:39.069661Z",
     "start_time": "2023-01-18T14:47:39.048287Z"
    }
   },
   "outputs": [
    {
     "data": {
      "text/html": [
       "<div>\n",
       "<style scoped>\n",
       "    .dataframe tbody tr th:only-of-type {\n",
       "        vertical-align: middle;\n",
       "    }\n",
       "\n",
       "    .dataframe tbody tr th {\n",
       "        vertical-align: top;\n",
       "    }\n",
       "\n",
       "    .dataframe thead th {\n",
       "        text-align: right;\n",
       "    }\n",
       "</style>\n",
       "<table border=\"1\" class=\"dataframe\">\n",
       "  <thead>\n",
       "    <tr style=\"text-align: right;\">\n",
       "      <th></th>\n",
       "      <th>word</th>\n",
       "      <th>value</th>\n",
       "    </tr>\n",
       "  </thead>\n",
       "  <tbody>\n",
       "    <tr>\n",
       "      <th>0</th>\n",
       "      <td>abandon</td>\n",
       "      <td>-2</td>\n",
       "    </tr>\n",
       "    <tr>\n",
       "      <th>1</th>\n",
       "      <td>abandoned</td>\n",
       "      <td>-2</td>\n",
       "    </tr>\n",
       "    <tr>\n",
       "      <th>2</th>\n",
       "      <td>abandons</td>\n",
       "      <td>-2</td>\n",
       "    </tr>\n",
       "    <tr>\n",
       "      <th>3</th>\n",
       "      <td>abducted</td>\n",
       "      <td>-2</td>\n",
       "    </tr>\n",
       "    <tr>\n",
       "      <th>4</th>\n",
       "      <td>abduction</td>\n",
       "      <td>-2</td>\n",
       "    </tr>\n",
       "  </tbody>\n",
       "</table>\n",
       "</div>"
      ],
      "text/plain": [
       "        word  value\n",
       "0    abandon     -2\n",
       "1  abandoned     -2\n",
       "2   abandons     -2\n",
       "3   abducted     -2\n",
       "4  abduction     -2"
      ]
     },
     "execution_count": 15,
     "metadata": {},
     "output_type": "execute_result"
    }
   ],
   "source": [
    "afinn.head()"
   ]
  },
  {
   "cell_type": "code",
   "execution_count": 16,
   "id": "aabfa54c",
   "metadata": {
    "ExecuteTime": {
     "end_time": "2023-01-18T14:47:39.094502Z",
     "start_time": "2023-01-18T14:47:39.069899Z"
    }
   },
   "outputs": [],
   "source": [
    "data = [Text.strip() for Text in data.Text] # remove both the leading and the trailing characters\n",
    "data = [Text for Text in data if Text]\n"
   ]
  },
  {
   "cell_type": "code",
   "execution_count": 17,
   "id": "8cce92a5",
   "metadata": {
    "ExecuteTime": {
     "end_time": "2023-01-18T14:47:39.176646Z",
     "start_time": "2023-01-18T14:47:39.094502Z"
    }
   },
   "outputs": [
    {
     "data": {
      "text/plain": [
       "['@kunalb11 I\\x92m an alien @ID_AA_Carmack Ray tracing on Cyberpunk with HDR is next-level.',\n",
       " 'Have you tried it?',\n",
       " '@joerogan @Spotify Great interview!',\n",
       " '@gtera27 Doge is underestimated @teslacn Congratulations Tesla China for amazing execution last year.',\n",
       " 'Now on to the next for even more!!',\n",
       " 'Happy New Year of the Ox!',\n",
       " 'https://t.co/9WFKMYu2oj Frodo was the underdoge,\\nAll thought he would fail,\\nHimself most of all.',\n",
       " 'https://t.co/zGxJFDzzrM @OwenSparks_ @flcnhvy @anonyx10 Haha thanks :) @flcnhvy @anonyx10 Indeed!',\n",
       " 'Tweets definitely do not represent real-world time allocation.',\n",
       " 'The most entertaining outcome is the most likely @GiveDirectly Just sent some Just agree to do Clubhouse with @kanyewest https://t.co/3rWE9uHSTS @geoffkeighley @UnrealEngine It\\x92s getting real Bought some Dogecoin for lil X, so he can be a toddler hodler @JoshManMode He definitely has issues, but the sentencing seems a bit high @freewalletorg Thanks for fixing @freewalletorg Please unlock my account @AstroJordy <U+0001F923><U+0001F923> This is true power haha https://t.co/Fc9uhQSd7O @freewalletorg Any crypto wallet that won\\x92t give you your private keys should be avoided at all costs @freewalletorg Your app sucks RT @SpaceX: NASA has selected Falcon Heavy to launch the first two elements of the lunar Gateway together on one mission!',\n",
       " 'https://t.co/3pWt @ajtourville Yes @BLKMDL3 @RationalEtienne @Adamklotz_ Once we can predict cash flow reasonably well, Starlink will IPO @RationalEtienne @Adamklotz_ Starlink is a staggeringly difficult technical &amp; economic endeavor.',\n",
       " 'However, if we don\\x85 https://t.co/9Z8Ac6skqx @RationalEtienne @Adamklotz_ SpaceX needs to pass through a deep chasm of negative cash flow over the next year or\\x85 https://t.co/7J1c92hdjl @ID_AA_Carmack Lowest cost per ton of carbon sequestered, net of value of any product made.',\n",
       " 'Must be scalable to g\\x85 https://t.co/XMyI7qWSgw @Adamklotz_ It\\x92s meant to be the same price in all countries.',\n",
       " 'Only difference should be taxes &amp; shipping.',\n",
       " '@tobyliiiiiiiiii This is intended for Earth, but there may be some ideas that apply to Mars too @CryptoShrikar @CoinDesk @Tesla @Dan_Z_Palmer <U+0001F923><U+0001F923> XPrize team will manage the $100M carbon capture prize https://t.co/fSw5IanL0r @SRuhle Everyone at Tesla receives stock.']"
      ]
     },
     "execution_count": 17,
     "metadata": {},
     "output_type": "execute_result"
    }
   ],
   "source": [
    "#tokenizing\n",
    "from nltk import tokenize\n",
    "sentences = tokenize.sent_tokenize(\" \".join(data))\n",
    "sentences[0:15]"
   ]
  },
  {
   "cell_type": "code",
   "execution_count": 18,
   "id": "869a16a5",
   "metadata": {
    "ExecuteTime": {
     "end_time": "2023-01-18T14:47:39.213674Z",
     "start_time": "2023-01-18T14:47:39.181509Z"
    }
   },
   "outputs": [
    {
     "data": {
      "text/html": [
       "<div>\n",
       "<style scoped>\n",
       "    .dataframe tbody tr th:only-of-type {\n",
       "        vertical-align: middle;\n",
       "    }\n",
       "\n",
       "    .dataframe tbody tr th {\n",
       "        vertical-align: top;\n",
       "    }\n",
       "\n",
       "    .dataframe thead th {\n",
       "        text-align: right;\n",
       "    }\n",
       "</style>\n",
       "<table border=\"1\" class=\"dataframe\">\n",
       "  <thead>\n",
       "    <tr style=\"text-align: right;\">\n",
       "      <th></th>\n",
       "      <th>sentence</th>\n",
       "    </tr>\n",
       "  </thead>\n",
       "  <tbody>\n",
       "    <tr>\n",
       "      <th>0</th>\n",
       "      <td>@kunalb11 Im an alien @ID_AA_Carmack Ray trac...</td>\n",
       "    </tr>\n",
       "    <tr>\n",
       "      <th>1</th>\n",
       "      <td>Have you tried it?</td>\n",
       "    </tr>\n",
       "    <tr>\n",
       "      <th>2</th>\n",
       "      <td>@joerogan @Spotify Great interview!</td>\n",
       "    </tr>\n",
       "    <tr>\n",
       "      <th>3</th>\n",
       "      <td>@gtera27 Doge is underestimated @teslacn Congr...</td>\n",
       "    </tr>\n",
       "    <tr>\n",
       "      <th>4</th>\n",
       "      <td>Now on to the next for even more!!</td>\n",
       "    </tr>\n",
       "    <tr>\n",
       "      <th>...</th>\n",
       "      <td>...</td>\n",
       "    </tr>\n",
       "    <tr>\n",
       "      <th>919</th>\n",
       "      <td>@kenyanwalstreet Not actually a payout, just a...</td>\n",
       "    </tr>\n",
       "    <tr>\n",
       "      <th>920</th>\n",
       "      <td>It may never pay out, as the stock cant b",
       " ht...</td>\n",
       "    </tr>\n",
       "    <tr>\n",
       "      <th>921</th>\n",
       "      <td>Details Aug 28.</td>\n",
       "    </tr>\n",
       "    <tr>\n",
       "      <th>922</th>\n",
       "      <td>AI symbiosis while u wait @vistacruiser7 @flcn...</td>\n",
       "    </tr>\n",
       "    <tr>\n",
       "      <th>923</th>\n",
       "      <td>@TeslaGong @PPathole Samwise Gamgee @PPathole ...</td>\n",
       "    </tr>\n",
       "  </tbody>\n",
       "</table>\n",
       "<p>924 rows × 1 columns</p>\n",
       "</div>"
      ],
      "text/plain": [
       "                                              sentence\n",
       "0    @kunalb11 Im an alien @ID_AA_Carmack Ray trac...\n",
       "1                                   Have you tried it?\n",
       "2                  @joerogan @Spotify Great interview!\n",
       "3    @gtera27 Doge is underestimated @teslacn Congr...\n",
       "4                   Now on to the next for even more!!\n",
       "..                                                 ...\n",
       "919  @kenyanwalstreet Not actually a payout, just a...\n",
       "920  It may never pay out, as the stock cant b\n",
       " ht...\n",
       "921                                    Details Aug 28.\n",
       "922  AI symbiosis while u wait @vistacruiser7 @flcn...\n",
       "923  @TeslaGong @PPathole Samwise Gamgee @PPathole ...\n",
       "\n",
       "[924 rows x 1 columns]"
      ]
     },
     "execution_count": 18,
     "metadata": {},
     "output_type": "execute_result"
    }
   ],
   "source": [
    "sent_df = pd.DataFrame(sentences, columns=['sentence'])\n",
    "sent_df"
   ]
  },
  {
   "cell_type": "code",
   "execution_count": 19,
   "id": "c41eeb92",
   "metadata": {
    "ExecuteTime": {
     "end_time": "2023-01-18T14:47:39.246141Z",
     "start_time": "2023-01-18T14:47:39.213674Z"
    }
   },
   "outputs": [
    {
     "data": {
      "text/plain": [
       "the                 405\n",
       "to                  394\n",
       "is                  353\n",
       "a                   331\n",
       "of                  307\n",
       "&amp;               218\n",
       "in                  209\n",
       "for                 180\n",
       "be                  155\n",
       "@Erdayastronaut     140\n",
       "@SpaceX             140\n",
       "will                137\n",
       "RT                  127\n",
       "on                  125\n",
       "@PPathole           123\n",
       "I                   115\n",
       "@flcnhvy            114\n",
       "but                 111\n",
       "that                104\n",
       "with                101\n",
       "are                  95\n",
       "it                   90\n",
       "at                   87\n",
       "Tesla                85\n",
       "The                  80\n",
       "we                   77\n",
       "and                  72\n",
       "this                 72\n",
       "@SpaceX:             71\n",
       "from                 70\n",
       "have                 69\n",
       "was                  69\n",
       "@WholeMarsBlog       68\n",
       "as                   65\n",
       "@Tesla               64\n",
       "@teslaownersSV       62\n",
       "This                 61\n",
       "you                  59\n",
       "We                   58\n",
       "@Teslarati           56\n",
       "has                  55\n",
       "@NASASpaceflight     54\n",
       "not                  54\n",
       "Yes                  50\n",
       "so                   49\n",
       "more                 48\n",
       "just                 47\n",
       "than                 44\n",
       "should               43\n",
       "can                  40\n",
       "dtype: int64"
      ]
     },
     "execution_count": 19,
     "metadata": {},
     "output_type": "execute_result"
    }
   ],
   "source": [
    "#frequency of words\n",
    "freq1 = pd.Series(' '.join(sent_df['sentence']).split()).value_counts()[:50] # for top 20\n",
    "freq1"
   ]
  },
  {
   "cell_type": "code",
   "execution_count": 20,
   "id": "86f0c4f5",
   "metadata": {
    "ExecuteTime": {
     "end_time": "2023-01-18T14:48:21.400941Z",
     "start_time": "2023-01-18T14:47:39.246141Z"
    }
   },
   "outputs": [
    {
     "name": "stderr",
     "output_type": "stream",
     "text": [
      "[nltk_data] Error loading punkt: <urlopen error [WinError 10060] A\n",
      "[nltk_data]     connection attempt failed because the connected party\n",
      "[nltk_data]     did not properly respond after a period of time, or\n",
      "[nltk_data]     established connection failed because connected host\n",
      "[nltk_data]     has failed to respond>\n",
      "[nltk_data] Error loading stopwords: <urlopen error [WinError 10060] A\n",
      "[nltk_data]     connection attempt failed because the connected party\n",
      "[nltk_data]     did not properly respond after a period of time, or\n",
      "[nltk_data]     established connection failed because connected host\n",
      "[nltk_data]     has failed to respond>\n"
     ]
    },
    {
     "data": {
      "text/plain": [
       "False"
      ]
     },
     "execution_count": 20,
     "metadata": {},
     "output_type": "execute_result"
    }
   ],
   "source": [
    "import nltk\n",
    "from nltk.corpus import stopwords\n",
    "nltk.download('punkt')\n",
    "nltk.download('stopwords')"
   ]
  },
  {
   "cell_type": "code",
   "execution_count": 21,
   "id": "86d87047",
   "metadata": {
    "ExecuteTime": {
     "end_time": "2023-01-18T14:48:21.442139Z",
     "start_time": "2023-01-18T14:48:21.409330Z"
    }
   },
   "outputs": [
    {
     "data": {
      "text/plain": [
       "['i', 'me', 'my', 'myself', 'we', 'our', 'ours', 'ourselves', 'you', \"you're\"]"
      ]
     },
     "execution_count": 21,
     "metadata": {},
     "output_type": "execute_result"
    }
   ],
   "source": [
    "my_stopwords = stopwords.words('english')\n",
    "my_stopwords[0:10]"
   ]
  },
  {
   "cell_type": "code",
   "execution_count": 22,
   "id": "e8550d71",
   "metadata": {
    "ExecuteTime": {
     "end_time": "2023-01-18T14:48:21.540649Z",
     "start_time": "2023-01-18T14:48:21.445631Z"
    }
   },
   "outputs": [],
   "source": [
    "#removing stopwords\n",
    "sent_df['sentence1'] = sent_df['sentence'].apply(lambda x: ' '.join([x for x in x.split() if x not in (my_stopwords)]))"
   ]
  },
  {
   "cell_type": "code",
   "execution_count": 23,
   "id": "11ff1f82",
   "metadata": {
    "ExecuteTime": {
     "end_time": "2023-01-18T14:48:21.565981Z",
     "start_time": "2023-01-18T14:48:21.542072Z"
    }
   },
   "outputs": [],
   "source": [
    "#removing punctuations\n",
    "sent_df['clean'] = sent_df['sentence1'].apply(lambda x: ' '.join([x for x in x.split() if x not in string.punctuation]))"
   ]
  },
  {
   "cell_type": "code",
   "execution_count": 24,
   "id": "5bad57e0",
   "metadata": {
    "ExecuteTime": {
     "end_time": "2023-01-18T14:48:21.599687Z",
     "start_time": "2023-01-18T14:48:21.574476Z"
    }
   },
   "outputs": [
    {
     "data": {
      "text/html": [
       "<div>\n",
       "<style scoped>\n",
       "    .dataframe tbody tr th:only-of-type {\n",
       "        vertical-align: middle;\n",
       "    }\n",
       "\n",
       "    .dataframe tbody tr th {\n",
       "        vertical-align: top;\n",
       "    }\n",
       "\n",
       "    .dataframe thead th {\n",
       "        text-align: right;\n",
       "    }\n",
       "</style>\n",
       "<table border=\"1\" class=\"dataframe\">\n",
       "  <thead>\n",
       "    <tr style=\"text-align: right;\">\n",
       "      <th></th>\n",
       "      <th>sentence</th>\n",
       "      <th>sentence1</th>\n",
       "      <th>clean</th>\n",
       "    </tr>\n",
       "  </thead>\n",
       "  <tbody>\n",
       "    <tr>\n",
       "      <th>0</th>\n",
       "      <td>@kunalb11 Im an alien @ID_AA_Carmack Ray trac...</td>\n",
       "      <td>@kunalb11 Im alien @ID_AA_Carmack Ray tracing...</td>\n",
       "      <td>@kunalb11 Im alien @ID_AA_Carmack Ray tracing...</td>\n",
       "    </tr>\n",
       "    <tr>\n",
       "      <th>1</th>\n",
       "      <td>Have you tried it?</td>\n",
       "      <td>Have tried it?</td>\n",
       "      <td>Have tried it?</td>\n",
       "    </tr>\n",
       "    <tr>\n",
       "      <th>2</th>\n",
       "      <td>@joerogan @Spotify Great interview!</td>\n",
       "      <td>@joerogan @Spotify Great interview!</td>\n",
       "      <td>@joerogan @Spotify Great interview!</td>\n",
       "    </tr>\n",
       "    <tr>\n",
       "      <th>3</th>\n",
       "      <td>@gtera27 Doge is underestimated @teslacn Congr...</td>\n",
       "      <td>@gtera27 Doge underestimated @teslacn Congratu...</td>\n",
       "      <td>@gtera27 Doge underestimated @teslacn Congratu...</td>\n",
       "    </tr>\n",
       "    <tr>\n",
       "      <th>4</th>\n",
       "      <td>Now on to the next for even more!!</td>\n",
       "      <td>Now next even more!!</td>\n",
       "      <td>Now next even more!!</td>\n",
       "    </tr>\n",
       "    <tr>\n",
       "      <th>...</th>\n",
       "      <td>...</td>\n",
       "      <td>...</td>\n",
       "      <td>...</td>\n",
       "    </tr>\n",
       "    <tr>\n",
       "      <th>919</th>\n",
       "      <td>@kenyanwalstreet Not actually a payout, just a...</td>\n",
       "      <td>@kenyanwalstreet Not actually payout, vesting ...</td>\n",
       "      <td>@kenyanwalstreet Not actually payout, vesting ...</td>\n",
       "    </tr>\n",
       "    <tr>\n",
       "      <th>920</th>\n",
       "      <td>It may never pay out, as the stock cant b",
       " ht...</td>\n",
       "      <td>It may never pay out, stock cant b https://t....</td>\n",
       "      <td>It may never pay out, stock cant b https://t....</td>\n",
       "    </tr>\n",
       "    <tr>\n",
       "      <th>921</th>\n",
       "      <td>Details Aug 28.</td>\n",
       "      <td>Details Aug 28.</td>\n",
       "      <td>Details Aug 28.</td>\n",
       "    </tr>\n",
       "    <tr>\n",
       "      <th>922</th>\n",
       "      <td>AI symbiosis while u wait @vistacruiser7 @flcn...</td>\n",
       "      <td>AI symbiosis u wait @vistacruiser7 @flcnhvy Th...</td>\n",
       "      <td>AI symbiosis u wait @vistacruiser7 @flcnhvy Th...</td>\n",
       "    </tr>\n",
       "    <tr>\n",
       "      <th>923</th>\n",
       "      <td>@TeslaGong @PPathole Samwise Gamgee @PPathole ...</td>\n",
       "      <td>@TeslaGong @PPathole Samwise Gamgee @PPathole ...</td>\n",
       "      <td>@TeslaGong @PPathole Samwise Gamgee @PPathole ...</td>\n",
       "    </tr>\n",
       "  </tbody>\n",
       "</table>\n",
       "<p>924 rows × 3 columns</p>\n",
       "</div>"
      ],
      "text/plain": [
       "                                              sentence  \\\n",
       "0    @kunalb11 Im an alien @ID_AA_Carmack Ray trac...   \n",
       "1                                   Have you tried it?   \n",
       "2                  @joerogan @Spotify Great interview!   \n",
       "3    @gtera27 Doge is underestimated @teslacn Congr...   \n",
       "4                   Now on to the next for even more!!   \n",
       "..                                                 ...   \n",
       "919  @kenyanwalstreet Not actually a payout, just a...   \n",
       "920  It may never pay out, as the stock cant b\n",
       " ht...   \n",
       "921                                    Details Aug 28.   \n",
       "922  AI symbiosis while u wait @vistacruiser7 @flcn...   \n",
       "923  @TeslaGong @PPathole Samwise Gamgee @PPathole ...   \n",
       "\n",
       "                                             sentence1  \\\n",
       "0    @kunalb11 Im alien @ID_AA_Carmack Ray tracing...   \n",
       "1                                       Have tried it?   \n",
       "2                  @joerogan @Spotify Great interview!   \n",
       "3    @gtera27 Doge underestimated @teslacn Congratu...   \n",
       "4                                 Now next even more!!   \n",
       "..                                                 ...   \n",
       "919  @kenyanwalstreet Not actually payout, vesting ...   \n",
       "920  It may never pay out, stock cant b https://t....   \n",
       "921                                    Details Aug 28.   \n",
       "922  AI symbiosis u wait @vistacruiser7 @flcnhvy Th...   \n",
       "923  @TeslaGong @PPathole Samwise Gamgee @PPathole ...   \n",
       "\n",
       "                                                 clean  \n",
       "0    @kunalb11 Im alien @ID_AA_Carmack Ray tracing...  \n",
       "1                                       Have tried it?  \n",
       "2                  @joerogan @Spotify Great interview!  \n",
       "3    @gtera27 Doge underestimated @teslacn Congratu...  \n",
       "4                                 Now next even more!!  \n",
       "..                                                 ...  \n",
       "919  @kenyanwalstreet Not actually payout, vesting ...  \n",
       "920  It may never pay out, stock cant b https://t....  \n",
       "921                                    Details Aug 28.  \n",
       "922  AI symbiosis u wait @vistacruiser7 @flcnhvy Th...  \n",
       "923  @TeslaGong @PPathole Samwise Gamgee @PPathole ...  \n",
       "\n",
       "[924 rows x 3 columns]"
      ]
     },
     "execution_count": 24,
     "metadata": {},
     "output_type": "execute_result"
    }
   ],
   "source": [
    "sent_df"
   ]
  },
  {
   "cell_type": "code",
   "execution_count": 25,
   "id": "9066bbed",
   "metadata": {
    "ExecuteTime": {
     "end_time": "2023-01-18T14:48:21.615741Z",
     "start_time": "2023-01-18T14:48:21.603436Z"
    }
   },
   "outputs": [],
   "source": [
    "sent_df=sent_df.drop('sentence',axis=1)"
   ]
  },
  {
   "cell_type": "code",
   "execution_count": 26,
   "id": "48230cea",
   "metadata": {
    "ExecuteTime": {
     "end_time": "2023-01-18T14:48:21.656850Z",
     "start_time": "2023-01-18T14:48:21.624048Z"
    }
   },
   "outputs": [
    {
     "data": {
      "text/html": [
       "<div>\n",
       "<style scoped>\n",
       "    .dataframe tbody tr th:only-of-type {\n",
       "        vertical-align: middle;\n",
       "    }\n",
       "\n",
       "    .dataframe tbody tr th {\n",
       "        vertical-align: top;\n",
       "    }\n",
       "\n",
       "    .dataframe thead th {\n",
       "        text-align: right;\n",
       "    }\n",
       "</style>\n",
       "<table border=\"1\" class=\"dataframe\">\n",
       "  <thead>\n",
       "    <tr style=\"text-align: right;\">\n",
       "      <th></th>\n",
       "      <th>sentence1</th>\n",
       "      <th>clean</th>\n",
       "    </tr>\n",
       "  </thead>\n",
       "  <tbody>\n",
       "    <tr>\n",
       "      <th>0</th>\n",
       "      <td>@kunalb11 Im alien @ID_AA_Carmack Ray tracing...</td>\n",
       "      <td>@kunalb11 Im alien @ID_AA_Carmack Ray tracing...</td>\n",
       "    </tr>\n",
       "    <tr>\n",
       "      <th>1</th>\n",
       "      <td>Have tried it?</td>\n",
       "      <td>Have tried it?</td>\n",
       "    </tr>\n",
       "    <tr>\n",
       "      <th>2</th>\n",
       "      <td>@joerogan @Spotify Great interview!</td>\n",
       "      <td>@joerogan @Spotify Great interview!</td>\n",
       "    </tr>\n",
       "    <tr>\n",
       "      <th>3</th>\n",
       "      <td>@gtera27 Doge underestimated @teslacn Congratu...</td>\n",
       "      <td>@gtera27 Doge underestimated @teslacn Congratu...</td>\n",
       "    </tr>\n",
       "    <tr>\n",
       "      <th>4</th>\n",
       "      <td>Now next even more!!</td>\n",
       "      <td>Now next even more!!</td>\n",
       "    </tr>\n",
       "    <tr>\n",
       "      <th>...</th>\n",
       "      <td>...</td>\n",
       "      <td>...</td>\n",
       "    </tr>\n",
       "    <tr>\n",
       "      <th>919</th>\n",
       "      <td>@kenyanwalstreet Not actually payout, vesting ...</td>\n",
       "      <td>@kenyanwalstreet Not actually payout, vesting ...</td>\n",
       "    </tr>\n",
       "    <tr>\n",
       "      <th>920</th>\n",
       "      <td>It may never pay out, stock cant b https://t....</td>\n",
       "      <td>It may never pay out, stock cant b https://t....</td>\n",
       "    </tr>\n",
       "    <tr>\n",
       "      <th>921</th>\n",
       "      <td>Details Aug 28.</td>\n",
       "      <td>Details Aug 28.</td>\n",
       "    </tr>\n",
       "    <tr>\n",
       "      <th>922</th>\n",
       "      <td>AI symbiosis u wait @vistacruiser7 @flcnhvy Th...</td>\n",
       "      <td>AI symbiosis u wait @vistacruiser7 @flcnhvy Th...</td>\n",
       "    </tr>\n",
       "    <tr>\n",
       "      <th>923</th>\n",
       "      <td>@TeslaGong @PPathole Samwise Gamgee @PPathole ...</td>\n",
       "      <td>@TeslaGong @PPathole Samwise Gamgee @PPathole ...</td>\n",
       "    </tr>\n",
       "  </tbody>\n",
       "</table>\n",
       "<p>924 rows × 2 columns</p>\n",
       "</div>"
      ],
      "text/plain": [
       "                                             sentence1  \\\n",
       "0    @kunalb11 Im alien @ID_AA_Carmack Ray tracing...   \n",
       "1                                       Have tried it?   \n",
       "2                  @joerogan @Spotify Great interview!   \n",
       "3    @gtera27 Doge underestimated @teslacn Congratu...   \n",
       "4                                 Now next even more!!   \n",
       "..                                                 ...   \n",
       "919  @kenyanwalstreet Not actually payout, vesting ...   \n",
       "920  It may never pay out, stock cant b https://t....   \n",
       "921                                    Details Aug 28.   \n",
       "922  AI symbiosis u wait @vistacruiser7 @flcnhvy Th...   \n",
       "923  @TeslaGong @PPathole Samwise Gamgee @PPathole ...   \n",
       "\n",
       "                                                 clean  \n",
       "0    @kunalb11 Im alien @ID_AA_Carmack Ray tracing...  \n",
       "1                                       Have tried it?  \n",
       "2                  @joerogan @Spotify Great interview!  \n",
       "3    @gtera27 Doge underestimated @teslacn Congratu...  \n",
       "4                                 Now next even more!!  \n",
       "..                                                 ...  \n",
       "919  @kenyanwalstreet Not actually payout, vesting ...  \n",
       "920  It may never pay out, stock cant b https://t....  \n",
       "921                                    Details Aug 28.  \n",
       "922  AI symbiosis u wait @vistacruiser7 @flcnhvy Th...  \n",
       "923  @TeslaGong @PPathole Samwise Gamgee @PPathole ...  \n",
       "\n",
       "[924 rows x 2 columns]"
      ]
     },
     "execution_count": 26,
     "metadata": {},
     "output_type": "execute_result"
    }
   ],
   "source": [
    "sent_df"
   ]
  },
  {
   "cell_type": "code",
   "execution_count": 27,
   "id": "35914372",
   "metadata": {
    "ExecuteTime": {
     "end_time": "2023-01-18T14:48:21.681278Z",
     "start_time": "2023-01-18T14:48:21.659033Z"
    }
   },
   "outputs": [],
   "source": [
    "from itertools import islice\n",
    "def take(n,iterable):\n",
    "    \"Return first n items of the iterable as list\"\n",
    "    return list(islice(iterable,n))"
   ]
  },
  {
   "cell_type": "code",
   "execution_count": 28,
   "id": "6fd58dcf",
   "metadata": {
    "ExecuteTime": {
     "end_time": "2023-01-18T14:48:21.722930Z",
     "start_time": "2023-01-18T14:48:21.690212Z"
    }
   },
   "outputs": [
    {
     "data": {
      "text/plain": [
       "[('abandon', -2),\n",
       " ('abandoned', -2),\n",
       " ('abandons', -2),\n",
       " ('abducted', -2),\n",
       " ('abduction', -2),\n",
       " ('abductions', -2),\n",
       " ('abhor', -3),\n",
       " ('abhorred', -3),\n",
       " ('abhorrent', -3),\n",
       " ('abhors', -3),\n",
       " ('abilities', 2),\n",
       " ('ability', 2),\n",
       " ('aboard', 1),\n",
       " ('absentee', -1),\n",
       " ('absentees', -1),\n",
       " ('absolve', 2),\n",
       " ('absolved', 2),\n",
       " ('absolves', 2),\n",
       " ('absolving', 2),\n",
       " ('absorbed', 1)]"
      ]
     },
     "execution_count": 28,
     "metadata": {},
     "output_type": "execute_result"
    }
   ],
   "source": [
    "#coverting to dic format and for 20 words\n",
    "affinity_scores = afinn.set_index('word')['value'].to_dict()\n",
    "take(20,affinity_scores.items())"
   ]
  },
  {
   "cell_type": "code",
   "execution_count": 29,
   "id": "83cb8a4c",
   "metadata": {
    "ExecuteTime": {
     "end_time": "2023-01-18T14:48:23.236882Z",
     "start_time": "2023-01-18T14:48:21.728512Z"
    }
   },
   "outputs": [],
   "source": [
    "import spacy\n",
    "nlp = spacy.load(\"en_core_web_sm\")\n",
    "sentiment_lexicon = affinity_scores\n",
    "\n",
    "def calculate_sentiment(Text: str = None):\n",
    "    sent_score = 0\n",
    "    if Text:\n",
    "        clean = nlp(Text)\n",
    "        for word in clean:\n",
    "            sent_score += sentiment_lexicon.get(word.lemma_, 0)\n",
    "    return sent_score"
   ]
  },
  {
   "cell_type": "code",
   "execution_count": 30,
   "id": "ff825704",
   "metadata": {
    "ExecuteTime": {
     "end_time": "2023-01-18T14:48:40.110381Z",
     "start_time": "2023-01-18T14:48:23.237996Z"
    }
   },
   "outputs": [],
   "source": [
    "#calulating the sentiment value for each sentence\n",
    "sent_df['sentiment_value'] = sent_df['clean'].apply(calculate_sentiment)"
   ]
  },
  {
   "cell_type": "code",
   "execution_count": 31,
   "id": "883a17d2",
   "metadata": {
    "ExecuteTime": {
     "end_time": "2023-01-18T14:48:40.143638Z",
     "start_time": "2023-01-18T14:48:40.111060Z"
    }
   },
   "outputs": [
    {
     "data": {
      "text/plain": [
       "0      0\n",
       "1      0\n",
       "2      3\n",
       "3      3\n",
       "4      0\n",
       "      ..\n",
       "919    0\n",
       "920   -4\n",
       "921    0\n",
       "922   -2\n",
       "923    0\n",
       "Name: sentiment_value, Length: 924, dtype: int64"
      ]
     },
     "execution_count": 31,
     "metadata": {},
     "output_type": "execute_result"
    }
   ],
   "source": [
    "sent_df['sentiment_value']"
   ]
  },
  {
   "cell_type": "code",
   "execution_count": 32,
   "id": "6f3b5bf2",
   "metadata": {
    "ExecuteTime": {
     "end_time": "2023-01-18T14:48:40.176251Z",
     "start_time": "2023-01-18T14:48:40.144873Z"
    }
   },
   "outputs": [
    {
     "data": {
      "text/plain": [
       "0     9\n",
       "1     3\n",
       "2     4\n",
       "3    11\n",
       "4     4\n",
       "5     4\n",
       "6     9\n",
       "7    10\n",
       "8     6\n",
       "9    74\n",
       "Name: word_count, dtype: int64"
      ]
     },
     "execution_count": 32,
     "metadata": {},
     "output_type": "execute_result"
    }
   ],
   "source": [
    "#word count for \"clean\"column\n",
    "sent_df['word_count'] = sent_df['clean'].str.split().apply(len)\n",
    "sent_df['word_count'].head(10)"
   ]
  },
  {
   "cell_type": "code",
   "execution_count": 33,
   "id": "3a92ac58",
   "metadata": {
    "ExecuteTime": {
     "end_time": "2023-01-18T14:48:40.217239Z",
     "start_time": "2023-01-18T14:48:40.177321Z"
    }
   },
   "outputs": [
    {
     "data": {
      "text/html": [
       "<div>\n",
       "<style scoped>\n",
       "    .dataframe tbody tr th:only-of-type {\n",
       "        vertical-align: middle;\n",
       "    }\n",
       "\n",
       "    .dataframe tbody tr th {\n",
       "        vertical-align: top;\n",
       "    }\n",
       "\n",
       "    .dataframe thead th {\n",
       "        text-align: right;\n",
       "    }\n",
       "</style>\n",
       "<table border=\"1\" class=\"dataframe\">\n",
       "  <thead>\n",
       "    <tr style=\"text-align: right;\">\n",
       "      <th></th>\n",
       "      <th>sentence1</th>\n",
       "      <th>clean</th>\n",
       "      <th>sentiment_value</th>\n",
       "      <th>word_count</th>\n",
       "    </tr>\n",
       "  </thead>\n",
       "  <tbody>\n",
       "    <tr>\n",
       "      <th>647</th>\n",
       "      <td>Very ba https://t.co/tJsh1Exz1Q @justpaulinelo...</td>\n",
       "      <td>Very ba https://t.co/tJsh1Exz1Q @justpaulinelo...</td>\n",
       "      <td>-8</td>\n",
       "      <td>41</td>\n",
       "    </tr>\n",
       "    <tr>\n",
       "      <th>64</th>\n",
       "      <td>Also, road hell mostly paved bad intentions.</td>\n",
       "      <td>Also, road hell mostly paved bad intentions.</td>\n",
       "      <td>-7</td>\n",
       "      <td>7</td>\n",
       "    </tr>\n",
       "    <tr>\n",
       "      <th>611</th>\n",
       "      <td>Then static fire, checkouts, static fire, fly ...</td>\n",
       "      <td>Then static fire, checkouts, static fire, fly ...</td>\n",
       "      <td>-4</td>\n",
       "      <td>11</td>\n",
       "    </tr>\n",
       "    <tr>\n",
       "      <th>920</th>\n",
       "      <td>It may never pay out, stock cant b https://t....</td>\n",
       "      <td>It may never pay out, stock cant b https://t....</td>\n",
       "      <td>-4</td>\n",
       "      <td>21</td>\n",
       "    </tr>\n",
       "    <tr>\n",
       "      <th>886</th>\n",
       "      <td>This primarily electrical/electronic (chip des...</td>\n",
       "      <td>This primarily electrical/electronic (chip des...</td>\n",
       "      <td>-4</td>\n",
       "      <td>60</td>\n",
       "    </tr>\n",
       "    <tr>\n",
       "      <th>680</th>\n",
       "      <td>Occasional flights land ok, frequent (daily) f...</td>\n",
       "      <td>Occasional flights land ok, frequent (daily) f...</td>\n",
       "      <td>-4</td>\n",
       "      <td>26</td>\n",
       "    </tr>\n",
       "    <tr>\n",
       "      <th>219</th>\n",
       "      <td>@RGVaerialphotos It real soon @MarcusHouseGame...</td>\n",
       "      <td>@RGVaerialphotos It real soon @MarcusHouseGame...</td>\n",
       "      <td>-3</td>\n",
       "      <td>13</td>\n",
       "    </tr>\n",
       "    <tr>\n",
       "      <th>887</th>\n",
       "      <td>Will write algorithms ever realize negativity ...</td>\n",
       "      <td>Will write algorithms ever realize negativity ...</td>\n",
       "      <td>-3</td>\n",
       "      <td>7</td>\n",
       "    </tr>\n",
       "    <tr>\n",
       "      <th>380</th>\n",
       "      <td>No problem theres way get current design Cybe...</td>\n",
       "      <td>No problem theres way get current design Cybe...</td>\n",
       "      <td>-3</td>\n",
       "      <td>10</td>\n",
       "    </tr>\n",
       "    <tr>\n",
       "      <th>630</th>\n",
       "      <td>You modern day moron.</td>\n",
       "      <td>You modern day moron.</td>\n",
       "      <td>-3</td>\n",
       "      <td>4</td>\n",
       "    </tr>\n",
       "  </tbody>\n",
       "</table>\n",
       "</div>"
      ],
      "text/plain": [
       "                                             sentence1  \\\n",
       "647  Very ba https://t.co/tJsh1Exz1Q @justpaulinelo...   \n",
       "64        Also, road hell mostly paved bad intentions.   \n",
       "611  Then static fire, checkouts, static fire, fly ...   \n",
       "920  It may never pay out, stock cant b https://t....   \n",
       "886  This primarily electrical/electronic (chip des...   \n",
       "680  Occasional flights land ok, frequent (daily) f...   \n",
       "219  @RGVaerialphotos It real soon @MarcusHouseGame...   \n",
       "887  Will write algorithms ever realize negativity ...   \n",
       "380  No problem theres way get current design Cybe...   \n",
       "630                              You modern day moron.   \n",
       "\n",
       "                                                 clean  sentiment_value  \\\n",
       "647  Very ba https://t.co/tJsh1Exz1Q @justpaulinelo...               -8   \n",
       "64        Also, road hell mostly paved bad intentions.               -7   \n",
       "611  Then static fire, checkouts, static fire, fly ...               -4   \n",
       "920  It may never pay out, stock cant b https://t....               -4   \n",
       "886  This primarily electrical/electronic (chip des...               -4   \n",
       "680  Occasional flights land ok, frequent (daily) f...               -4   \n",
       "219  @RGVaerialphotos It real soon @MarcusHouseGame...               -3   \n",
       "887  Will write algorithms ever realize negativity ...               -3   \n",
       "380  No problem theres way get current design Cybe...               -3   \n",
       "630                              You modern day moron.               -3   \n",
       "\n",
       "     word_count  \n",
       "647          41  \n",
       "64            7  \n",
       "611          11  \n",
       "920          21  \n",
       "886          60  \n",
       "680          26  \n",
       "219          13  \n",
       "887           7  \n",
       "380          10  \n",
       "630           4  "
      ]
     },
     "execution_count": 33,
     "metadata": {},
     "output_type": "execute_result"
    }
   ],
   "source": [
    "#sort based on sentiment value\n",
    "sent_df.sort_values(by='sentiment_value').head(10)"
   ]
  },
  {
   "cell_type": "code",
   "execution_count": 34,
   "id": "5b88a9ef",
   "metadata": {
    "ExecuteTime": {
     "end_time": "2023-01-18T14:48:40.250225Z",
     "start_time": "2023-01-18T14:48:40.217303Z"
    }
   },
   "outputs": [
    {
     "data": {
      "text/plain": [
       "count    924.000000\n",
       "mean       1.377706\n",
       "std        2.651924\n",
       "min       -8.000000\n",
       "25%        0.000000\n",
       "50%        0.000000\n",
       "75%        3.000000\n",
       "max       16.000000\n",
       "Name: sentiment_value, dtype: float64"
      ]
     },
     "execution_count": 34,
     "metadata": {},
     "output_type": "execute_result"
    }
   ],
   "source": [
    "sent_df['sentiment_value'].describe() #max sentiment value=16 and min sentiment value=-8"
   ]
  },
  {
   "cell_type": "code",
   "execution_count": 35,
   "id": "a201ddaa",
   "metadata": {
    "ExecuteTime": {
     "end_time": "2023-01-18T14:48:40.291420Z",
     "start_time": "2023-01-18T14:48:40.254676Z"
    }
   },
   "outputs": [
    {
     "data": {
      "text/html": [
       "<div>\n",
       "<style scoped>\n",
       "    .dataframe tbody tr th:only-of-type {\n",
       "        vertical-align: middle;\n",
       "    }\n",
       "\n",
       "    .dataframe tbody tr th {\n",
       "        vertical-align: top;\n",
       "    }\n",
       "\n",
       "    .dataframe thead th {\n",
       "        text-align: right;\n",
       "    }\n",
       "</style>\n",
       "<table border=\"1\" class=\"dataframe\">\n",
       "  <thead>\n",
       "    <tr style=\"text-align: right;\">\n",
       "      <th></th>\n",
       "      <th>sentence1</th>\n",
       "      <th>clean</th>\n",
       "      <th>sentiment_value</th>\n",
       "      <th>word_count</th>\n",
       "    </tr>\n",
       "  </thead>\n",
       "  <tbody>\n",
       "    <tr>\n",
       "      <th>0</th>\n",
       "      <td>@kunalb11 Im alien @ID_AA_Carmack Ray tracing...</td>\n",
       "      <td>@kunalb11 Im alien @ID_AA_Carmack Ray tracing...</td>\n",
       "      <td>0</td>\n",
       "      <td>9</td>\n",
       "    </tr>\n",
       "    <tr>\n",
       "      <th>1</th>\n",
       "      <td>Have tried it?</td>\n",
       "      <td>Have tried it?</td>\n",
       "      <td>0</td>\n",
       "      <td>3</td>\n",
       "    </tr>\n",
       "    <tr>\n",
       "      <th>4</th>\n",
       "      <td>Now next even more!!</td>\n",
       "      <td>Now next even more!!</td>\n",
       "      <td>0</td>\n",
       "      <td>4</td>\n",
       "    </tr>\n",
       "    <tr>\n",
       "      <th>5</th>\n",
       "      <td>Happy New Year Ox!</td>\n",
       "      <td>Happy New Year Ox!</td>\n",
       "      <td>0</td>\n",
       "      <td>4</td>\n",
       "    </tr>\n",
       "    <tr>\n",
       "      <th>6</th>\n",
       "      <td>https://t.co/9WFKMYu2oj Frodo underdoge, All t...</td>\n",
       "      <td>https://t.co/9WFKMYu2oj Frodo underdoge, All t...</td>\n",
       "      <td>-2</td>\n",
       "      <td>9</td>\n",
       "    </tr>\n",
       "    <tr>\n",
       "      <th>...</th>\n",
       "      <td>...</td>\n",
       "      <td>...</td>\n",
       "      <td>...</td>\n",
       "      <td>...</td>\n",
       "    </tr>\n",
       "    <tr>\n",
       "      <th>919</th>\n",
       "      <td>@kenyanwalstreet Not actually payout, vesting ...</td>\n",
       "      <td>@kenyanwalstreet Not actually payout, vesting ...</td>\n",
       "      <td>0</td>\n",
       "      <td>7</td>\n",
       "    </tr>\n",
       "    <tr>\n",
       "      <th>920</th>\n",
       "      <td>It may never pay out, stock cant b https://t....</td>\n",
       "      <td>It may never pay out, stock cant b https://t....</td>\n",
       "      <td>-4</td>\n",
       "      <td>21</td>\n",
       "    </tr>\n",
       "    <tr>\n",
       "      <th>921</th>\n",
       "      <td>Details Aug 28.</td>\n",
       "      <td>Details Aug 28.</td>\n",
       "      <td>0</td>\n",
       "      <td>3</td>\n",
       "    </tr>\n",
       "    <tr>\n",
       "      <th>922</th>\n",
       "      <td>AI symbiosis u wait @vistacruiser7 @flcnhvy Th...</td>\n",
       "      <td>AI symbiosis u wait @vistacruiser7 @flcnhvy Th...</td>\n",
       "      <td>-2</td>\n",
       "      <td>29</td>\n",
       "    </tr>\n",
       "    <tr>\n",
       "      <th>923</th>\n",
       "      <td>@TeslaGong @PPathole Samwise Gamgee @PPathole ...</td>\n",
       "      <td>@TeslaGong @PPathole Samwise Gamgee @PPathole ...</td>\n",
       "      <td>0</td>\n",
       "      <td>13</td>\n",
       "    </tr>\n",
       "  </tbody>\n",
       "</table>\n",
       "<p>490 rows × 4 columns</p>\n",
       "</div>"
      ],
      "text/plain": [
       "                                             sentence1  \\\n",
       "0    @kunalb11 Im alien @ID_AA_Carmack Ray tracing...   \n",
       "1                                       Have tried it?   \n",
       "4                                 Now next even more!!   \n",
       "5                                   Happy New Year Ox!   \n",
       "6    https://t.co/9WFKMYu2oj Frodo underdoge, All t...   \n",
       "..                                                 ...   \n",
       "919  @kenyanwalstreet Not actually payout, vesting ...   \n",
       "920  It may never pay out, stock cant b https://t....   \n",
       "921                                    Details Aug 28.   \n",
       "922  AI symbiosis u wait @vistacruiser7 @flcnhvy Th...   \n",
       "923  @TeslaGong @PPathole Samwise Gamgee @PPathole ...   \n",
       "\n",
       "                                                 clean  sentiment_value  \\\n",
       "0    @kunalb11 Im alien @ID_AA_Carmack Ray tracing...                0   \n",
       "1                                       Have tried it?                0   \n",
       "4                                 Now next even more!!                0   \n",
       "5                                   Happy New Year Ox!                0   \n",
       "6    https://t.co/9WFKMYu2oj Frodo underdoge, All t...               -2   \n",
       "..                                                 ...              ...   \n",
       "919  @kenyanwalstreet Not actually payout, vesting ...                0   \n",
       "920  It may never pay out, stock cant b https://t....               -4   \n",
       "921                                    Details Aug 28.                0   \n",
       "922  AI symbiosis u wait @vistacruiser7 @flcnhvy Th...               -2   \n",
       "923  @TeslaGong @PPathole Samwise Gamgee @PPathole ...                0   \n",
       "\n",
       "     word_count  \n",
       "0             9  \n",
       "1             3  \n",
       "4             4  \n",
       "5             4  \n",
       "6             9  \n",
       "..          ...  \n",
       "919           7  \n",
       "920          21  \n",
       "921           3  \n",
       "922          29  \n",
       "923          13  \n",
       "\n",
       "[490 rows x 4 columns]"
      ]
     },
     "execution_count": 35,
     "metadata": {},
     "output_type": "execute_result"
    }
   ],
   "source": [
    "#sentiment value less than or equal to 0\n",
    "sent_df[sent_df['sentiment_value']<=0]"
   ]
  },
  {
   "cell_type": "code",
   "execution_count": 36,
   "id": "c33c4dff",
   "metadata": {
    "ExecuteTime": {
     "end_time": "2023-01-18T14:48:40.348386Z",
     "start_time": "2023-01-18T14:48:40.308052Z"
    }
   },
   "outputs": [
    {
     "data": {
      "text/html": [
       "<div>\n",
       "<style scoped>\n",
       "    .dataframe tbody tr th:only-of-type {\n",
       "        vertical-align: middle;\n",
       "    }\n",
       "\n",
       "    .dataframe tbody tr th {\n",
       "        vertical-align: top;\n",
       "    }\n",
       "\n",
       "    .dataframe thead th {\n",
       "        text-align: right;\n",
       "    }\n",
       "</style>\n",
       "<table border=\"1\" class=\"dataframe\">\n",
       "  <thead>\n",
       "    <tr style=\"text-align: right;\">\n",
       "      <th></th>\n",
       "      <th>sentence1</th>\n",
       "      <th>clean</th>\n",
       "      <th>sentiment_value</th>\n",
       "      <th>word_count</th>\n",
       "    </tr>\n",
       "  </thead>\n",
       "  <tbody>\n",
       "    <tr>\n",
       "      <th>2</th>\n",
       "      <td>@joerogan @Spotify Great interview!</td>\n",
       "      <td>@joerogan @Spotify Great interview!</td>\n",
       "      <td>3</td>\n",
       "      <td>4</td>\n",
       "    </tr>\n",
       "    <tr>\n",
       "      <th>3</th>\n",
       "      <td>@gtera27 Doge underestimated @teslacn Congratu...</td>\n",
       "      <td>@gtera27 Doge underestimated @teslacn Congratu...</td>\n",
       "      <td>3</td>\n",
       "      <td>11</td>\n",
       "    </tr>\n",
       "    <tr>\n",
       "      <th>7</th>\n",
       "      <td>https://t.co/zGxJFDzzrM @OwenSparks_ @flcnhvy ...</td>\n",
       "      <td>https://t.co/zGxJFDzzrM @OwenSparks_ @flcnhvy ...</td>\n",
       "      <td>2</td>\n",
       "      <td>10</td>\n",
       "    </tr>\n",
       "    <tr>\n",
       "      <th>9</th>\n",
       "      <td>The entertaining outcome likely @GiveDirectly ...</td>\n",
       "      <td>The entertaining outcome likely @GiveDirectly ...</td>\n",
       "      <td>3</td>\n",
       "      <td>74</td>\n",
       "    </tr>\n",
       "    <tr>\n",
       "      <th>17</th>\n",
       "      <td>Back work I go @CapybaraSurfer @MattWallace888...</td>\n",
       "      <td>Back work I go @CapybaraSurfer @MattWallace888...</td>\n",
       "      <td>4</td>\n",
       "      <td>28</td>\n",
       "    </tr>\n",
       "    <tr>\n",
       "      <th>...</th>\n",
       "      <td>...</td>\n",
       "      <td>...</td>\n",
       "      <td>...</td>\n",
       "      <td>...</td>\n",
       "    </tr>\n",
       "    <tr>\n",
       "      <th>909</th>\n",
       "      <td>Mass Effect 2 (talking sequels) amazing.</td>\n",
       "      <td>Mass Effect 2 (talking sequels) amazing.</td>\n",
       "      <td>4</td>\n",
       "      <td>6</td>\n",
       "    </tr>\n",
       "    <tr>\n",
       "      <th>913</th>\n",
       "      <td>@Ali_Afshari In general, need improve podcasts...</td>\n",
       "      <td>@Ali_Afshari In general, need improve podcasts...</td>\n",
       "      <td>2</td>\n",
       "      <td>72</td>\n",
       "    </tr>\n",
       "    <tr>\n",
       "      <th>915</th>\n",
       "      <td>@burakaydik True Wow, IHOP &amp;amp; GitHub close ...</td>\n",
       "      <td>@burakaydik True Wow, IHOP &amp;amp; GitHub close ...</td>\n",
       "      <td>3</td>\n",
       "      <td>12</td>\n",
       "    </tr>\n",
       "    <tr>\n",
       "      <th>917</th>\n",
       "      <td>This great &amp;amp; terrifying.</td>\n",
       "      <td>This great &amp;amp; terrifying.</td>\n",
       "      <td>3</td>\n",
       "      <td>4</td>\n",
       "    </tr>\n",
       "    <tr>\n",
       "      <th>918</th>\n",
       "      <td>Everything weve ever sensed thought https://t...</td>\n",
       "      <td>Everything weve ever sensed thought https://t...</td>\n",
       "      <td>3</td>\n",
       "      <td>12</td>\n",
       "    </tr>\n",
       "  </tbody>\n",
       "</table>\n",
       "<p>434 rows × 4 columns</p>\n",
       "</div>"
      ],
      "text/plain": [
       "                                             sentence1  \\\n",
       "2                  @joerogan @Spotify Great interview!   \n",
       "3    @gtera27 Doge underestimated @teslacn Congratu...   \n",
       "7    https://t.co/zGxJFDzzrM @OwenSparks_ @flcnhvy ...   \n",
       "9    The entertaining outcome likely @GiveDirectly ...   \n",
       "17   Back work I go @CapybaraSurfer @MattWallace888...   \n",
       "..                                                 ...   \n",
       "909           Mass Effect 2 (talking sequels) amazing.   \n",
       "913  @Ali_Afshari In general, need improve podcasts...   \n",
       "915  @burakaydik True Wow, IHOP &amp; GitHub close ...   \n",
       "917                       This great &amp; terrifying.   \n",
       "918  Everything weve ever sensed thought https://t...   \n",
       "\n",
       "                                                 clean  sentiment_value  \\\n",
       "2                  @joerogan @Spotify Great interview!                3   \n",
       "3    @gtera27 Doge underestimated @teslacn Congratu...                3   \n",
       "7    https://t.co/zGxJFDzzrM @OwenSparks_ @flcnhvy ...                2   \n",
       "9    The entertaining outcome likely @GiveDirectly ...                3   \n",
       "17   Back work I go @CapybaraSurfer @MattWallace888...                4   \n",
       "..                                                 ...              ...   \n",
       "909           Mass Effect 2 (talking sequels) amazing.                4   \n",
       "913  @Ali_Afshari In general, need improve podcasts...                2   \n",
       "915  @burakaydik True Wow, IHOP &amp; GitHub close ...                3   \n",
       "917                       This great &amp; terrifying.                3   \n",
       "918  Everything weve ever sensed thought https://t...                3   \n",
       "\n",
       "     word_count  \n",
       "2             4  \n",
       "3            11  \n",
       "7            10  \n",
       "9            74  \n",
       "17           28  \n",
       "..          ...  \n",
       "909           6  \n",
       "913          72  \n",
       "915          12  \n",
       "917           4  \n",
       "918          12  \n",
       "\n",
       "[434 rows x 4 columns]"
      ]
     },
     "execution_count": 36,
     "metadata": {},
     "output_type": "execute_result"
    }
   ],
   "source": [
    "#sentiment value greater than 0\n",
    "sent_df[sent_df['sentiment_value']>0]"
   ]
  },
  {
   "cell_type": "code",
   "execution_count": 37,
   "id": "f0f1906b",
   "metadata": {
    "ExecuteTime": {
     "end_time": "2023-01-18T14:48:40.365112Z",
     "start_time": "2023-01-18T14:48:40.352113Z"
    }
   },
   "outputs": [],
   "source": [
    "sent_df['index']=range(0,len(sent_df))"
   ]
  },
  {
   "cell_type": "code",
   "execution_count": 38,
   "id": "3ef3bae5",
   "metadata": {
    "ExecuteTime": {
     "end_time": "2023-01-18T14:48:40.398106Z",
     "start_time": "2023-01-18T14:48:40.369150Z"
    }
   },
   "outputs": [
    {
     "data": {
      "text/html": [
       "<div>\n",
       "<style scoped>\n",
       "    .dataframe tbody tr th:only-of-type {\n",
       "        vertical-align: middle;\n",
       "    }\n",
       "\n",
       "    .dataframe tbody tr th {\n",
       "        vertical-align: top;\n",
       "    }\n",
       "\n",
       "    .dataframe thead th {\n",
       "        text-align: right;\n",
       "    }\n",
       "</style>\n",
       "<table border=\"1\" class=\"dataframe\">\n",
       "  <thead>\n",
       "    <tr style=\"text-align: right;\">\n",
       "      <th></th>\n",
       "      <th>sentence1</th>\n",
       "      <th>clean</th>\n",
       "      <th>sentiment_value</th>\n",
       "      <th>word_count</th>\n",
       "      <th>index</th>\n",
       "    </tr>\n",
       "  </thead>\n",
       "  <tbody>\n",
       "    <tr>\n",
       "      <th>0</th>\n",
       "      <td>@kunalb11 Im alien @ID_AA_Carmack Ray tracing...</td>\n",
       "      <td>@kunalb11 Im alien @ID_AA_Carmack Ray tracing...</td>\n",
       "      <td>0</td>\n",
       "      <td>9</td>\n",
       "      <td>0</td>\n",
       "    </tr>\n",
       "    <tr>\n",
       "      <th>1</th>\n",
       "      <td>Have tried it?</td>\n",
       "      <td>Have tried it?</td>\n",
       "      <td>0</td>\n",
       "      <td>3</td>\n",
       "      <td>1</td>\n",
       "    </tr>\n",
       "    <tr>\n",
       "      <th>2</th>\n",
       "      <td>@joerogan @Spotify Great interview!</td>\n",
       "      <td>@joerogan @Spotify Great interview!</td>\n",
       "      <td>3</td>\n",
       "      <td>4</td>\n",
       "      <td>2</td>\n",
       "    </tr>\n",
       "    <tr>\n",
       "      <th>3</th>\n",
       "      <td>@gtera27 Doge underestimated @teslacn Congratu...</td>\n",
       "      <td>@gtera27 Doge underestimated @teslacn Congratu...</td>\n",
       "      <td>3</td>\n",
       "      <td>11</td>\n",
       "      <td>3</td>\n",
       "    </tr>\n",
       "    <tr>\n",
       "      <th>4</th>\n",
       "      <td>Now next even more!!</td>\n",
       "      <td>Now next even more!!</td>\n",
       "      <td>0</td>\n",
       "      <td>4</td>\n",
       "      <td>4</td>\n",
       "    </tr>\n",
       "    <tr>\n",
       "      <th>...</th>\n",
       "      <td>...</td>\n",
       "      <td>...</td>\n",
       "      <td>...</td>\n",
       "      <td>...</td>\n",
       "      <td>...</td>\n",
       "    </tr>\n",
       "    <tr>\n",
       "      <th>919</th>\n",
       "      <td>@kenyanwalstreet Not actually payout, vesting ...</td>\n",
       "      <td>@kenyanwalstreet Not actually payout, vesting ...</td>\n",
       "      <td>0</td>\n",
       "      <td>7</td>\n",
       "      <td>919</td>\n",
       "    </tr>\n",
       "    <tr>\n",
       "      <th>920</th>\n",
       "      <td>It may never pay out, stock cant b https://t....</td>\n",
       "      <td>It may never pay out, stock cant b https://t....</td>\n",
       "      <td>-4</td>\n",
       "      <td>21</td>\n",
       "      <td>920</td>\n",
       "    </tr>\n",
       "    <tr>\n",
       "      <th>921</th>\n",
       "      <td>Details Aug 28.</td>\n",
       "      <td>Details Aug 28.</td>\n",
       "      <td>0</td>\n",
       "      <td>3</td>\n",
       "      <td>921</td>\n",
       "    </tr>\n",
       "    <tr>\n",
       "      <th>922</th>\n",
       "      <td>AI symbiosis u wait @vistacruiser7 @flcnhvy Th...</td>\n",
       "      <td>AI symbiosis u wait @vistacruiser7 @flcnhvy Th...</td>\n",
       "      <td>-2</td>\n",
       "      <td>29</td>\n",
       "      <td>922</td>\n",
       "    </tr>\n",
       "    <tr>\n",
       "      <th>923</th>\n",
       "      <td>@TeslaGong @PPathole Samwise Gamgee @PPathole ...</td>\n",
       "      <td>@TeslaGong @PPathole Samwise Gamgee @PPathole ...</td>\n",
       "      <td>0</td>\n",
       "      <td>13</td>\n",
       "      <td>923</td>\n",
       "    </tr>\n",
       "  </tbody>\n",
       "</table>\n",
       "<p>924 rows × 5 columns</p>\n",
       "</div>"
      ],
      "text/plain": [
       "                                             sentence1  \\\n",
       "0    @kunalb11 Im alien @ID_AA_Carmack Ray tracing...   \n",
       "1                                       Have tried it?   \n",
       "2                  @joerogan @Spotify Great interview!   \n",
       "3    @gtera27 Doge underestimated @teslacn Congratu...   \n",
       "4                                 Now next even more!!   \n",
       "..                                                 ...   \n",
       "919  @kenyanwalstreet Not actually payout, vesting ...   \n",
       "920  It may never pay out, stock cant b https://t....   \n",
       "921                                    Details Aug 28.   \n",
       "922  AI symbiosis u wait @vistacruiser7 @flcnhvy Th...   \n",
       "923  @TeslaGong @PPathole Samwise Gamgee @PPathole ...   \n",
       "\n",
       "                                                 clean  sentiment_value  \\\n",
       "0    @kunalb11 Im alien @ID_AA_Carmack Ray tracing...                0   \n",
       "1                                       Have tried it?                0   \n",
       "2                  @joerogan @Spotify Great interview!                3   \n",
       "3    @gtera27 Doge underestimated @teslacn Congratu...                3   \n",
       "4                                 Now next even more!!                0   \n",
       "..                                                 ...              ...   \n",
       "919  @kenyanwalstreet Not actually payout, vesting ...                0   \n",
       "920  It may never pay out, stock cant b https://t....               -4   \n",
       "921                                    Details Aug 28.                0   \n",
       "922  AI symbiosis u wait @vistacruiser7 @flcnhvy Th...               -2   \n",
       "923  @TeslaGong @PPathole Samwise Gamgee @PPathole ...                0   \n",
       "\n",
       "     word_count  index  \n",
       "0             9      0  \n",
       "1             3      1  \n",
       "2             4      2  \n",
       "3            11      3  \n",
       "4             4      4  \n",
       "..          ...    ...  \n",
       "919           7    919  \n",
       "920          21    920  \n",
       "921           3    921  \n",
       "922          29    922  \n",
       "923          13    923  \n",
       "\n",
       "[924 rows x 5 columns]"
      ]
     },
     "execution_count": 38,
     "metadata": {},
     "output_type": "execute_result"
    }
   ],
   "source": [
    "sent_df"
   ]
  },
  {
   "cell_type": "code",
   "execution_count": 39,
   "id": "563b8e24",
   "metadata": {
    "ExecuteTime": {
     "end_time": "2023-01-18T14:48:41.353398Z",
     "start_time": "2023-01-18T14:48:40.409342Z"
    }
   },
   "outputs": [
    {
     "name": "stderr",
     "output_type": "stream",
     "text": [
      "C:\\Users\\priya\\anaconda3\\lib\\site-packages\\seaborn\\distributions.py:2619: FutureWarning: `distplot` is a deprecated function and will be removed in a future version. Please adapt your code to use either `displot` (a figure-level function with similar flexibility) or `histplot` (an axes-level function for histograms).\n",
      "  warnings.warn(msg, FutureWarning)\n"
     ]
    },
    {
     "data": {
      "text/plain": [
       "<AxesSubplot:xlabel='sentiment_value', ylabel='Density'>"
      ]
     },
     "execution_count": 39,
     "metadata": {},
     "output_type": "execute_result"
    },
    {
     "data": {
      "image/png": "[encoded data removed]",
      "text/plain": [
       "<Figure size 640x480 with 1 Axes>"
      ]
     },
     "metadata": {},
     "output_type": "display_data"
    }
   ],
   "source": [
    "#densityplot based on sentiment value\n",
    "import seaborn as sns\n",
    "import matplotlib.pyplot as plt\n",
    "sns.distplot(sent_df['sentiment_value'])"
   ]
  },
  {
   "cell_type": "code",
   "execution_count": 40,
   "id": "d1de9b42",
   "metadata": {
    "ExecuteTime": {
     "end_time": "2023-01-18T14:48:41.854965Z",
     "start_time": "2023-01-18T14:48:41.355511Z"
    }
   },
   "outputs": [
    {
     "data": {
      "text/plain": [
       "<AxesSubplot:xlabel='index', ylabel='sentiment_value'>"
      ]
     },
     "execution_count": 40,
     "metadata": {},
     "output_type": "execute_result"
    },
    {
     "data": {
      "image/png": "[encoded data removed]",
      "text/plain": [
       "<Figure size 1500x1000 with 1 Axes>"
      ]
     },
     "metadata": {},
     "output_type": "display_data"
    }
   ],
   "source": [
    "#lineplot based on sentiment value\n",
    "plt.figure(figsize=(15, 10))\n",
    "sns.lineplot(y='sentiment_value',x='index',data=sent_df)"
   ]
  },
  {
   "cell_type": "code",
   "execution_count": 41,
   "id": "e25731a3",
   "metadata": {
    "ExecuteTime": {
     "end_time": "2023-01-18T14:48:42.342569Z",
     "start_time": "2023-01-18T14:48:41.863442Z"
    }
   },
   "outputs": [
    {
     "data": {
      "text/plain": [
       "<AxesSubplot:title={'center':'Sentence sentiment value to sentence word count'}, xlabel='word_count', ylabel='sentiment_value'>"
      ]
     },
     "execution_count": 41,
     "metadata": {},
     "output_type": "execute_result"
    },
    {
     "data": {
      "image/png": "[encoded data removed]",
      "text/plain": [
       "<Figure size 800x800 with 1 Axes>"
      ]
     },
     "metadata": {},
     "output_type": "display_data"
    }
   ],
   "source": [
    "#scatterplot between wordcount and sentiment value\n",
    "sent_df.plot.scatter(x='word_count', y='sentiment_value', figsize=(8,8), title='Sentence sentiment value to sentence word count')"
   ]
  },
  {
   "cell_type": "markdown",
   "id": "e6a2f54e",
   "metadata": {},
   "source": [
    "# AFTER PERFORMING SENTIMENT ANALYSIS WE CAN CONCLUDE THAT MOST SENTENCES OF IT ARE NEUTRAL"
   ]
  },
  {
   "cell_type": "code",
   "execution_count": null,
   "id": "89eec2ad",
   "metadata": {},
   "outputs": [],
   "source": []
  }
 ],
 "metadata": {
  "kernelspec": {
   "display_name": "Python 3 (ipykernel)",
   "language": "python",
   "name": "python3"
  },
  "language_info": {
   "codemirror_mode": {
    "name": "ipython",
    "version": 3
   },
   "file_extension": ".py",
   "mimetype": "text/x-python",
   "name": "python",
   "nbconvert_exporter": "python",
   "pygments_lexer": "ipython3",
   "version": "3.9.13"
  }
 },
 "nbformat": 4,
 "nbformat_minor": 5
}
